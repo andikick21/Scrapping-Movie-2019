{
 "cells": [
  {
   "cell_type": "markdown",
   "metadata": {},
   "source": [
    "# Capstone Webscrapping using BeautifulSoup\n",
    "\n",
    "This notebook contains guidances & tasks on the data processing for the application\n",
    "\n",
    "(Please insert the background here )\n",
    "\n",
    "\n",
    "## Requesting the Data and Creating a BeautifulSoup\n",
    "\n",
    "Let's begin with requesting the web from the site with `get` method."
   ]
  },
  {
   "cell_type": "code",
   "execution_count": 86,
   "metadata": {
    "ExecuteTime": {
     "end_time": "2021-03-08T03:16:35.475878Z",
     "start_time": "2021-03-08T03:16:33.862957Z"
    }
   },
   "outputs": [],
   "source": [
    "import requests\n",
    "\n",
    "url_get = requests.get('https://www.imdb.com/search/title/?release_date=2019-01-01,2019-12-31')"
   ]
  },
  {
   "cell_type": "markdown",
   "metadata": {},
   "source": [
    "To visualize what exactly you get from the `request.get`, we can use .content so ee what we exactly get, in here i slice it so it won't make our screen full of the html we get from the page. You can delete the slicing if you want to see what we fully get."
   ]
  },
  {
   "cell_type": "code",
   "execution_count": 87,
   "metadata": {
    "ExecuteTime": {
     "end_time": "2021-03-08T03:16:35.491840Z",
     "start_time": "2021-03-08T03:16:35.477877Z"
    },
    "scrolled": true
   },
   "outputs": [
    {
     "data": {
      "text/plain": [
       "b'\\n<!DOCTYPE html>\\n<html\\n    xmlns:og=\"http://ogp.me/ns#\"\\n    xmlns:fb=\"http://www.facebook.com/2008/fbml\">\\n    <head>\\n         \\n        <meta charset=\"utf-8\">\\n        <meta http-equiv=\"X-UA-Compatible\" content=\"IE=edge\">\\n\\n    <meta name=\"apple-itunes-app\" content=\"app-id=342792525, app-argument=imdb:///?src=mdot\">\\n\\n\\n\\n        <script type=\"text/javascript\">var IMDbTimer={starttime: new Date().getTime(),pt:\\'java\\'};</script>\\n\\n<script>\\n    if (typeof uet == \\'function\\') {\\n      uet(\"bb\", \"LoadTitle\", {wb: 1});\\n    }\\n</script>\\n  <script>(function(t){ (t.events = t.events || {})[\"csm_head_pre_title\"] = new Date().getTime(); })(IMDbTimer);</script>\\n        <title>Released between 2019-01-01 and 2019-12-31\\n(Sorted by Popularity Ascending) - IMDb</title>\\n  <script>(function(t)'"
      ]
     },
     "execution_count": 87,
     "metadata": {},
     "output_type": "execute_result"
    }
   ],
   "source": [
    "url_get.content[1:777]"
   ]
  },
  {
   "cell_type": "markdown",
   "metadata": {},
   "source": [
    "As we can see we get a very unstructured and complex html, which actually contains the codes needed to show the webpages on your web browser. But we as human still confused what and where we can use that piece of code, so here where we use the beautifulsoup. Beautiful soup class will result a beautifulsoup object. Beautiful Soup transforms a complex HTML document into a complex tree of Python objects. \n",
    "\n",
    "Let's make Beautiful soup object and feel free to explore the object here."
   ]
  },
  {
   "cell_type": "code",
   "execution_count": 88,
   "metadata": {
    "ExecuteTime": {
     "end_time": "2021-03-08T03:16:35.697406Z",
     "start_time": "2021-03-08T03:16:35.493866Z"
    }
   },
   "outputs": [
    {
     "name": "stdout",
     "output_type": "stream",
     "text": [
      "<class 'bs4.BeautifulSoup'>\n"
     ]
    }
   ],
   "source": [
    "from bs4 import BeautifulSoup \n",
    "\n",
    "soup = BeautifulSoup(url_get.content,\"html.parser\")\n",
    "print(type(soup))"
   ]
  },
  {
   "cell_type": "markdown",
   "metadata": {},
   "source": [
    "## Finding the right key to scrap the data & Extracting the right information"
   ]
  },
  {
   "cell_type": "markdown",
   "metadata": {},
   "source": [
    "Find the key and put the key into the `.find()` Put all the exploring the right key at this cell. (please change this markdown with your explanation)"
   ]
  },
  {
   "cell_type": "code",
   "execution_count": 89,
   "metadata": {
    "ExecuteTime": {
     "end_time": "2021-03-08T03:16:35.713401Z",
     "start_time": "2021-03-08T03:16:35.700079Z"
    },
    "scrolled": false
   },
   "outputs": [
    {
     "name": "stdout",
     "output_type": "stream",
     "text": [
      "<class 'bs4.element.Tag'>\n",
      "101\n"
     ]
    }
   ],
   "source": [
    "list_movie = soup.find(\"div\", attrs={\"class\",\"lister-list\"})\n",
    "print(type(list_movie))\n",
    "print(len(list_movie))"
   ]
  },
  {
   "cell_type": "markdown",
   "metadata": {},
   "source": [
    "Do the scrapping process here (please change this markdown with your explanation)"
   ]
  },
  {
   "cell_type": "code",
   "execution_count": 90,
   "metadata": {
    "ExecuteTime": {
     "end_time": "2021-03-08T03:16:44.081731Z",
     "start_time": "2021-03-08T03:16:35.715625Z"
    }
   },
   "outputs": [],
   "source": [
    "temp = [] #initiating a tuple\n",
    "for i in range (50):\n",
    "#insert the scrapping process here   \n",
    "    tab = list_movie.find_all(\"h3\")[i]\n",
    "    judul_film = tab.find_all(\"a\")[0].text\n",
    "    judul_film = judul_film.strip()\n",
    "    tahun = list_movie.h3.find('span', class_ = \"lister-item-year\").text\n",
    "    imdb_rating = list_movie.find_all(\"strong\")[i].text\n",
    "    metascore = soup.select(\".ratings-bar , .ratings-metascore\")\n",
    "    metascore = [title.text for title in metascore]\n",
    "    metascore = metascore[i].strip()\n",
    "    metascore = metascore.replace(metascore[:59],\"\")\n",
    "    metascore = metascore[6:8]\n",
    "    votes = soup.select(\".sort-num_votes-visible span:nth-child(2)\")\n",
    "    votes = [title.text for title in votes]\n",
    "    votes = votes[i].replace(\",\",\"\")\n",
    "    temp.append((judul_film,tahun,imdb_rating,metascore,votes))\n",
    "temp = temp[::-1]"
   ]
  },
  {
   "cell_type": "markdown",
   "metadata": {},
   "source": [
    "## Creating data frame & Data wrangling"
   ]
  },
  {
   "cell_type": "markdown",
   "metadata": {},
   "source": [
    "Put the array into dataframe"
   ]
  },
  {
   "cell_type": "code",
   "execution_count": 91,
   "metadata": {
    "ExecuteTime": {
     "end_time": "2021-03-08T03:16:44.096684Z",
     "start_time": "2021-03-08T03:16:44.083537Z"
    },
    "scrolled": true
   },
   "outputs": [],
   "source": [
    "import pandas as pd\n",
    "df = pd.DataFrame(temp, columns = (\"Judul\",\"tahun\",\"IMDB Rating\",\"Metascore\",\"Votes\"))"
   ]
  },
  {
   "cell_type": "code",
   "execution_count": 92,
   "metadata": {
    "ExecuteTime": {
     "end_time": "2021-03-08T03:16:44.128583Z",
     "start_time": "2021-03-08T03:16:44.097875Z"
    },
    "scrolled": true
   },
   "outputs": [
    {
     "data": {
      "text/html": [
       "<div>\n",
       "<style scoped>\n",
       "    .dataframe tbody tr th:only-of-type {\n",
       "        vertical-align: middle;\n",
       "    }\n",
       "\n",
       "    .dataframe tbody tr th {\n",
       "        vertical-align: top;\n",
       "    }\n",
       "\n",
       "    .dataframe thead th {\n",
       "        text-align: right;\n",
       "    }\n",
       "</style>\n",
       "<table border=\"1\" class=\"dataframe\">\n",
       "  <thead>\n",
       "    <tr style=\"text-align: right;\">\n",
       "      <th></th>\n",
       "      <th>Judul</th>\n",
       "      <th>tahun</th>\n",
       "      <th>IMDB Rating</th>\n",
       "      <th>Metascore</th>\n",
       "      <th>Votes</th>\n",
       "    </tr>\n",
       "  </thead>\n",
       "  <tbody>\n",
       "    <tr>\n",
       "      <th>29</th>\n",
       "      <td>Chernobyl</td>\n",
       "      <td>(2019– )</td>\n",
       "      <td>9.4</td>\n",
       "      <td>0.0</td>\n",
       "      <td>548660.0</td>\n",
       "    </tr>\n",
       "    <tr>\n",
       "      <th>49</th>\n",
       "      <td>The Mandalorian</td>\n",
       "      <td>(2019– )</td>\n",
       "      <td>8.8</td>\n",
       "      <td>0.0</td>\n",
       "      <td>297227.0</td>\n",
       "    </tr>\n",
       "    <tr>\n",
       "      <th>17</th>\n",
       "      <td>Yakusoku no Neverland</td>\n",
       "      <td>(2019– )</td>\n",
       "      <td>8.7</td>\n",
       "      <td>0.0</td>\n",
       "      <td>22599.0</td>\n",
       "    </tr>\n",
       "    <tr>\n",
       "      <th>47</th>\n",
       "      <td>The Boys</td>\n",
       "      <td>(2019– )</td>\n",
       "      <td>8.7</td>\n",
       "      <td>0.0</td>\n",
       "      <td>251820.0</td>\n",
       "    </tr>\n",
       "    <tr>\n",
       "      <th>22</th>\n",
       "      <td>Demon Slayer: Kimetsu No Yaiba</td>\n",
       "      <td>(2019– )</td>\n",
       "      <td>8.7</td>\n",
       "      <td>0.0</td>\n",
       "      <td>29819.0</td>\n",
       "    </tr>\n",
       "    <tr>\n",
       "      <th>40</th>\n",
       "      <td>Gisaengchung</td>\n",
       "      <td>(2019– )</td>\n",
       "      <td>8.6</td>\n",
       "      <td>82.0</td>\n",
       "      <td>571832.0</td>\n",
       "    </tr>\n",
       "    <tr>\n",
       "      <th>46</th>\n",
       "      <td>Avengers: Endgame</td>\n",
       "      <td>(2019– )</td>\n",
       "      <td>8.4</td>\n",
       "      <td>78.0</td>\n",
       "      <td>827952.0</td>\n",
       "    </tr>\n",
       "  </tbody>\n",
       "</table>\n",
       "</div>"
      ],
      "text/plain": [
       "                             Judul     tahun  IMDB Rating  Metascore     Votes\n",
       "29                       Chernobyl  (2019– )          9.4        0.0  548660.0\n",
       "49                 The Mandalorian  (2019– )          8.8        0.0  297227.0\n",
       "17           Yakusoku no Neverland  (2019– )          8.7        0.0   22599.0\n",
       "47                        The Boys  (2019– )          8.7        0.0  251820.0\n",
       "22  Demon Slayer: Kimetsu No Yaiba  (2019– )          8.7        0.0   29819.0\n",
       "40                    Gisaengchung  (2019– )          8.6       82.0  571832.0\n",
       "46               Avengers: Endgame  (2019– )          8.4       78.0  827952.0"
      ]
     },
     "execution_count": 92,
     "metadata": {},
     "output_type": "execute_result"
    }
   ],
   "source": [
    "#insert data wrangling here\n",
    "df[\"Judul\"] = df[\"Judul\"].astype(\"category\")\n",
    "df[\"tahun\"] = df[\"tahun\"].astype(\"category\").replace(\"– \",\"\")\n",
    "df[\"IMDB Rating\"] = df[\"IMDB Rating\"].astype(\"float64\")\n",
    "df[\"IMDB Rating\"] = df[\"IMDB Rating\"].replace(\"– \",\"\")\n",
    "df[\"Metascore\"] = df[\"Metascore\"].replace(\"\",0)\n",
    "df[\"Metascore\"] = df[\"Metascore\"].astype(\"float64\")\n",
    "df[\"Votes\"] = df[\"Votes\"].astype(\"float64\")\n",
    "rank_film = df.sort_values('IMDB Rating', ascending=False).head(7) #rank by IMDB Rating\n",
    "rank_film\n",
    "#end of data wranggling"
   ]
  },
  {
   "cell_type": "markdown",
   "metadata": {},
   "source": [
    "Do the data cleaning here (please change this markdown with your explanation of what you do for data wrangling)"
   ]
  },
  {
   "cell_type": "code",
   "execution_count": 93,
   "metadata": {
    "ExecuteTime": {
     "end_time": "2021-03-08T03:16:44.159697Z",
     "start_time": "2021-03-08T03:16:44.131594Z"
    },
    "scrolled": false
   },
   "outputs": [
    {
     "data": {
      "text/html": [
       "<div>\n",
       "<style scoped>\n",
       "    .dataframe tbody tr th:only-of-type {\n",
       "        vertical-align: middle;\n",
       "    }\n",
       "\n",
       "    .dataframe tbody tr th {\n",
       "        vertical-align: top;\n",
       "    }\n",
       "\n",
       "    .dataframe thead th {\n",
       "        text-align: right;\n",
       "    }\n",
       "</style>\n",
       "<table border=\"1\" class=\"dataframe\">\n",
       "  <thead>\n",
       "    <tr style=\"text-align: right;\">\n",
       "      <th></th>\n",
       "      <th>IMDB Rating</th>\n",
       "      <th>Metascore</th>\n",
       "      <th>Votes</th>\n",
       "    </tr>\n",
       "  </thead>\n",
       "  <tbody>\n",
       "    <tr>\n",
       "      <th>count</th>\n",
       "      <td>50.000000</td>\n",
       "      <td>50.000000</td>\n",
       "      <td>50.000000</td>\n",
       "    </tr>\n",
       "    <tr>\n",
       "      <th>mean</th>\n",
       "      <td>7.560000</td>\n",
       "      <td>20.080000</td>\n",
       "      <td>196726.500000</td>\n",
       "    </tr>\n",
       "    <tr>\n",
       "      <th>std</th>\n",
       "      <td>1.040212</td>\n",
       "      <td>32.415567</td>\n",
       "      <td>219782.507299</td>\n",
       "    </tr>\n",
       "    <tr>\n",
       "      <th>min</th>\n",
       "      <td>3.400000</td>\n",
       "      <td>0.000000</td>\n",
       "      <td>2014.000000</td>\n",
       "    </tr>\n",
       "    <tr>\n",
       "      <th>25%</th>\n",
       "      <td>7.150000</td>\n",
       "      <td>0.000000</td>\n",
       "      <td>30573.750000</td>\n",
       "    </tr>\n",
       "    <tr>\n",
       "      <th>50%</th>\n",
       "      <td>7.750000</td>\n",
       "      <td>0.000000</td>\n",
       "      <td>128064.000000</td>\n",
       "    </tr>\n",
       "    <tr>\n",
       "      <th>75%</th>\n",
       "      <td>8.275000</td>\n",
       "      <td>47.750000</td>\n",
       "      <td>302233.000000</td>\n",
       "    </tr>\n",
       "    <tr>\n",
       "      <th>max</th>\n",
       "      <td>9.400000</td>\n",
       "      <td>96.000000</td>\n",
       "      <td>958088.000000</td>\n",
       "    </tr>\n",
       "  </tbody>\n",
       "</table>\n",
       "</div>"
      ],
      "text/plain": [
       "       IMDB Rating  Metascore          Votes\n",
       "count    50.000000  50.000000      50.000000\n",
       "mean      7.560000  20.080000  196726.500000\n",
       "std       1.040212  32.415567  219782.507299\n",
       "min       3.400000   0.000000    2014.000000\n",
       "25%       7.150000   0.000000   30573.750000\n",
       "50%       7.750000   0.000000  128064.000000\n",
       "75%       8.275000  47.750000  302233.000000\n",
       "max       9.400000  96.000000  958088.000000"
      ]
     },
     "execution_count": 93,
     "metadata": {},
     "output_type": "execute_result"
    }
   ],
   "source": [
    "df.describe()"
   ]
  },
  {
   "cell_type": "markdown",
   "metadata": {},
   "source": [
    "### Implementing your webscrapping to the flask dashboard\n",
    "\n",
    "- Copy paste all of your web scrapping process to the desired position on the `app.py`\n",
    "- Changing the title of the dasboard at `index.html`"
   ]
  },
  {
   "cell_type": "markdown",
   "metadata": {},
   "source": [
    "## Finishing This Notebook with Your Analysis and Conclusion\n",
    "\n",
    "First you can do start with making the data visualisation. "
   ]
  },
  {
   "cell_type": "code",
   "execution_count": 98,
   "metadata": {
    "ExecuteTime": {
     "end_time": "2021-03-08T03:17:38.794860Z",
     "start_time": "2021-03-08T03:17:38.770890Z"
    },
    "scrolled": false
   },
   "outputs": [
    {
     "data": {
      "text/html": [
       "<div>\n",
       "<style scoped>\n",
       "    .dataframe tbody tr th:only-of-type {\n",
       "        vertical-align: middle;\n",
       "    }\n",
       "\n",
       "    .dataframe tbody tr th {\n",
       "        vertical-align: top;\n",
       "    }\n",
       "\n",
       "    .dataframe thead th {\n",
       "        text-align: right;\n",
       "    }\n",
       "</style>\n",
       "<table border=\"1\" class=\"dataframe\">\n",
       "  <thead>\n",
       "    <tr style=\"text-align: right;\">\n",
       "      <th></th>\n",
       "      <th>tahun</th>\n",
       "      <th>IMDB Rating</th>\n",
       "      <th>Metascore</th>\n",
       "      <th>Votes</th>\n",
       "    </tr>\n",
       "    <tr>\n",
       "      <th>Judul</th>\n",
       "      <th></th>\n",
       "      <th></th>\n",
       "      <th></th>\n",
       "      <th></th>\n",
       "    </tr>\n",
       "  </thead>\n",
       "  <tbody>\n",
       "    <tr>\n",
       "      <th>Chernobyl</th>\n",
       "      <td>(2019– )</td>\n",
       "      <td>9.4</td>\n",
       "      <td>0.0</td>\n",
       "      <td>548660.0</td>\n",
       "    </tr>\n",
       "    <tr>\n",
       "      <th>The Mandalorian</th>\n",
       "      <td>(2019– )</td>\n",
       "      <td>8.8</td>\n",
       "      <td>0.0</td>\n",
       "      <td>297227.0</td>\n",
       "    </tr>\n",
       "    <tr>\n",
       "      <th>The Boys</th>\n",
       "      <td>(2019– )</td>\n",
       "      <td>8.7</td>\n",
       "      <td>0.0</td>\n",
       "      <td>251820.0</td>\n",
       "    </tr>\n",
       "    <tr>\n",
       "      <th>Demon Slayer: Kimetsu No Yaiba</th>\n",
       "      <td>(2019– )</td>\n",
       "      <td>8.7</td>\n",
       "      <td>0.0</td>\n",
       "      <td>29819.0</td>\n",
       "    </tr>\n",
       "    <tr>\n",
       "      <th>Yakusoku no Neverland</th>\n",
       "      <td>(2019– )</td>\n",
       "      <td>8.7</td>\n",
       "      <td>0.0</td>\n",
       "      <td>22599.0</td>\n",
       "    </tr>\n",
       "    <tr>\n",
       "      <th>Gisaengchung</th>\n",
       "      <td>(2019– )</td>\n",
       "      <td>8.6</td>\n",
       "      <td>82.0</td>\n",
       "      <td>571832.0</td>\n",
       "    </tr>\n",
       "    <tr>\n",
       "      <th>Avengers: Endgame</th>\n",
       "      <td>(2019– )</td>\n",
       "      <td>8.4</td>\n",
       "      <td>78.0</td>\n",
       "      <td>827952.0</td>\n",
       "    </tr>\n",
       "  </tbody>\n",
       "</table>\n",
       "</div>"
      ],
      "text/plain": [
       "                                   tahun  IMDB Rating  Metascore     Votes\n",
       "Judul                                                                     \n",
       "Chernobyl                       (2019– )          9.4        0.0  548660.0\n",
       "The Mandalorian                 (2019– )          8.8        0.0  297227.0\n",
       "The Boys                        (2019– )          8.7        0.0  251820.0\n",
       "Demon Slayer: Kimetsu No Yaiba  (2019– )          8.7        0.0   29819.0\n",
       "Yakusoku no Neverland           (2019– )          8.7        0.0   22599.0\n",
       "Gisaengchung                    (2019– )          8.6       82.0  571832.0\n",
       "Avengers: Endgame               (2019– )          8.4       78.0  827952.0"
      ]
     },
     "execution_count": 98,
     "metadata": {},
     "output_type": "execute_result"
    }
   ],
   "source": [
    "top_film = rank_film.set_index('Judul').sort_values(['IMDB Rating','Votes'], ascending=False).head(7)\n",
    "top_film"
   ]
  },
  {
   "cell_type": "code",
   "execution_count": 104,
   "metadata": {
    "ExecuteTime": {
     "end_time": "2021-03-08T03:18:52.074278Z",
     "start_time": "2021-03-08T03:18:51.861788Z"
    },
    "scrolled": true
   },
   "outputs": [
    {
     "data": {
      "image/png": "[encoded data removed]",
      "text/plain": [
       "<Figure size 432x288 with 1 Axes>"
      ]
     },
     "metadata": {
      "needs_background": "light"
     },
     "output_type": "display_data"
    }
   ],
   "source": [
    "plot = top_film[['IMDB Rating','Votes']].sort_values(\"Votes\").plot.barh(title='Top 7 Film by Votes')"
   ]
  },
  {
   "cell_type": "markdown",
   "metadata": {},
   "source": [
    "Berikut list top 7 film sort by votes tahun 2019\n",
    "- Avengers: Endgame\n",
    "- Gisaengchung\n",
    "- Chernobyl\n",
    "- The Mandalorian\n",
    "- The Boys\n",
    "- Demon Slayer: Kimetsu No Yaiba\n",
    "- Yakusoku no Neverland"
   ]
  },
  {
   "cell_type": "markdown",
   "metadata": {},
   "source": [
    "\n",
    "(Put your analysis and conclusion here.)"
   ]
  },
  {
   "cell_type": "markdown",
   "metadata": {},
   "source": [
    "### Extra Challange\n",
    "\n",
    "This will be not included to the scoring. \n",
    "\n",
    "- You can create additional analysis from the data.\n",
    "- Implement it to the dashboard with at `app.py` dan `index.html`."
   ]
  }
 ],
 "metadata": {
  "kernelspec": {
   "display_name": "Python 3",
   "language": "python",
   "name": "python3"
  },
  "language_info": {
   "codemirror_mode": {
    "name": "ipython",
    "version": 3
   },
   "file_extension": ".py",
   "mimetype": "text/x-python",
   "name": "python",
   "nbconvert_exporter": "python",
   "pygments_lexer": "ipython3",
   "version": "3.8.5"
  },
  "toc": {
   "base_numbering": 1,
   "nav_menu": {},
   "number_sections": true,
   "sideBar": true,
   "skip_h1_title": false,
   "title_cell": "Table of Contents",
   "title_sidebar": "Contents",
   "toc_cell": false,
   "toc_position": {},
   "toc_section_display": true,
   "toc_window_display": false
  },
  "varInspector": {
   "cols": {
    "lenName": 16,
    "lenType": 16,
    "lenVar": 40
   },
   "kernels_config": {
    "python": {
     "delete_cmd_postfix": "",
     "delete_cmd_prefix": "del ",
     "library": "var_list.py",
     "varRefreshCmd": "print(var_dic_list())"
    },
    "r": {
     "delete_cmd_postfix": ") ",
     "delete_cmd_prefix": "rm(",
     "library": "var_list.r",
     "varRefreshCmd": "cat(var_dic_list()) "
    }
   },
   "types_to_exclude": [
    "module",
    "function",
    "builtin_function_or_method",
    "instance",
    "_Feature"
   ],
   "window_display": false
  }
 },
 "nbformat": 4,
 "nbformat_minor": 2
}
